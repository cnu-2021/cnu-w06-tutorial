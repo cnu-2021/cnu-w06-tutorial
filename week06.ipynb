{
 "cells": [
  {
   "cell_type": "markdown",
   "metadata": {},
   "source": [
    "# Week 6: Interpolatory quadrature & introduction to numerical differentiation\n",
    "\n",
    "This week, we contextualise the numerical integration methods we introduced in Week 5 in the more general category of **interpolatory quadrature rules**, and assess their **degree of precision**. Then, we continue our introduction to numerical calculus by presenting methods to approximate derivatives numerically.\n",
    "\n",
    "The best way to learn programming is to write code. Don't hesitate to edit the code in the example cells, or add your own code, to test your understanding. You will find practice exercises throughout the notebook, denoted by 🚩 ***Exercise $x$:***.\n",
    "\n",
    "#### Displaying solutions\n",
    "\n",
    "Solutions will be released one week after the worksheets are released, as a new `.txt` file in the same GitHub repository. After pulling the file to your workspace (either your computer or your Noteable server), run the following cell to create clickable buttons under each exercise, which will allow you to reveal the solutions."
   ]
  },
  {
   "cell_type": "code",
   "execution_count": null,
   "metadata": {},
   "outputs": [],
   "source": [
    "%run scripts/create_widgets.py week06"
   ]
  },
  {
   "cell_type": "markdown",
   "metadata": {},
   "source": [
    "---\n",
    "### 📚 Book sections\n",
    "\n",
    "- **ASC**: sections 3.3, 3.4, 3.6, 3.2, 6.1, 6.2, 6.6\n",
    "- **PCP**: sections 6.1, 6.2, 6.3, 6.4, 6.5\n",
    "\n",
    "---\n",
    "## 1. Interpolatory quadrature\n",
    "\n",
    "**Quadrature** is the process of calculating an area. Numerical integration is also referred to as numerical quadrature -- a process to estimate an area using a numerical method.\n",
    "\n",
    "### 1.1. Quadrature rules\n",
    "\n",
    "In Week 5, we introduced a general method to approximate an integral using a **weighted sum** which is easy to compute:\n",
    "\n",
    "$$\n",
    "I = \\int_a^b f(x) \\ dx \\approx \\sum_{k=0}^{N-1} w_k f(x_k),\n",
    "$$\n",
    "\n",
    "where\n",
    "- $x_k \\in [a, b]$ are the $N$ **nodes**, i.e. a finite number of points chosen in the integration interval,\n",
    "- $w_k \\in \\mathbb{R}$ are **weights** (coefficients) chosen appropriately.\n",
    "\n",
    "A **quadrature rule** is simply a *particular combination of nodes and weights* which can be used to approximate $I$, to different degrees of precision. The first methods we saw last week, for example the midpoint rule and the trapezoid rule, are all examples of quadrature rules.\n",
    "\n",
    "#### Translation and scaling\n",
    "\n",
    "To simplify computations, quadrature rules are usually defined over the **reference interval** $[-1, 1]$. Then, an integral over some arbitrary interval $[a, b]$ can be obtained by translation and scaling using a change of variable, letting\n",
    "\n",
    "$$\n",
    "y = \\frac{b-a}{2} \\left(x+1\\right) + a \\qquad \\Rightarrow \\qquad dy = \\frac{b-a}{2} dx.\n",
    "$$\n",
    "\n",
    "We therefore have\n",
    "\n",
    "\\begin{align}\n",
    "\\int_a^b f(y) \\ dy &= \\frac{b-a}{2} \\int_{-1}^1 f\\left(\\frac{b-a}{2} \\left(x+1\\right) + a\\right) \\ dx \\\\\n",
    "& \\approx \\frac{b-a}{2} \\sum_{k=0}^{N-1} w_k f(y_k), \\qquad \\text{with } y_k = \\frac{b-a}{2} \\left(x_k+1\\right) + a, \\quad k=0, \\dots, N-1.\n",
    "\\end{align}\n",
    "\n",
    "---\n",
    "🚩 ***Exercise 1:*** Complete the code below to write a function `quadrature()` which returns the approximate value of the integral of a function $f$ over the interval $[a, b]$, using the quadrature rule defined over $[-1, 1]$ with nodes $x_k$ and weights $w_k$. The inputs of `quadrature()` are described in the docstring.\n",
    "\n",
    "Then, consider the quadrature rule with 2 nodes $x_0 = -\\frac{1}{3}$, $x_1 = \\frac{1}{3}$ and corresponding weights $w_0 = w_1 = 1$. Use your function `quadrature()` to approximate the integral of $\\arctan(x)$ over the interval $[0.5, 1.2]$.\n",
    "\n",
    "*Hint: defining nodes and weights as Numpy arrays allows you to vectorise the calculation of the weighted sum, i.e. to avoid having to use a loop. See section 6.4 in **PCP**.*"
   ]
  },
  {
   "cell_type": "code",
   "execution_count": null,
   "metadata": {},
   "outputs": [],
   "source": [
    "import numpy as np\n",
    "\n",
    "def quadrature(f, xk, wk, a, b):\n",
    "    '''\n",
    "    Approximates the integral of f over [a, b],\n",
    "    using the quadrature rule with weights wk\n",
    "    and nodes xk.\n",
    "    \n",
    "    Input:\n",
    "    f (function): function to integrate (as a Python function object)\n",
    "    xk (Numpy array): vector containing all nodes\n",
    "    wk (Numpy array): vector containing all weights\n",
    "    a (float): left boundary of the interval\n",
    "    b (float): right boundary of the interval\n",
    "    \n",
    "    Returns:\n",
    "    I_approx (float): the approximate value of the integral\n",
    "        of f over [a, b], using the quadrature rule.\n",
    "    '''\n",
    "    # Define the shifted and scaled nodes\n",
    "    yk =\n",
    "    \n",
    "    # Compute the weighted sum\n",
    "    I_approx = \n",
    "    \n",
    "    return I_approx\n",
    "\n",
    "\n",
    "# Define the interval, nodes, and weights\n",
    "a, b = 0.5, 1.2\n",
    "xk = np.array([-1/3, 1/3])\n",
    "wk = np.array([1., 1.])\n",
    "\n",
    "# Use quadrature() to compute the approximation of the integral\n",
    "I_approx = \n",
    "\n",
    "# Display the result with 6 decimal digits\n",
    "print(f'The integral of arctan(x) over [{a}, {b}] is approximately {I_approx:.6f}.')"
   ]
  },
  {
   "cell_type": "code",
   "execution_count": null,
   "metadata": {
    "tags": [
     "solution_cell"
    ]
   },
   "outputs": [],
   "source": [
    "%run scripts/show_solutions.py week06_ex1"
   ]
  },
  {
   "cell_type": "markdown",
   "metadata": {},
   "source": [
    "---\n",
    "### 1.2. Interpolatory quadrature\n",
    "\n",
    "All the numerical integration methods we will see in the course follow the same principle: we want to estimate $I$ by approximating $f(x)$ with a **polynomial** over a given interval, and then calculate the **exact** integral of that polynomial:\n",
    "\n",
    "$$\n",
    "    I = \\int_{-1}^1 f(x) \\ dx \\approx \\int_{-1}^1 p(x) \\ dx.\n",
    "$$\n",
    "\n",
    "We choose polynomials for several reasons (see section 6.1 in **ASC**, Theorem 15 and after):\n",
    "- the integral of a polynomial is always easy to obtain,\n",
    "- evaluating a polynomial at a given point can be done in a computationally efficient way, using a relatively small number of additions and multiplications,\n",
    "- most importantly (Weierstrass approximation theorem), any continuous function over an interval can be uniformly approximated by a polynomial over that interval, as closely as we want (by increasing the degree of the polynomial).\n",
    "\n",
    "Our next question is: how do we find a suitable polynomial $p(x)$ which we can use to approximate $I$?\n",
    "\n",
    "#### Polynomial interpolation\n",
    "\n",
    "For a given set of $N$ distinct nodes $\\{x_k\\}_{k=0, \\dots, N-1}$, there exists a **unique** polynomial of degree at most $N-1$ passing through all the points $(x_k, f(x_k))$ -- the **interpolating polynomial**. We denote it by $p_{N-1}(x)$.\n",
    "\n",
    "One way to \"directly\" approximate $I$ could be to find this interpolating polynomial and calculate its integral over the interval. Numpy has some helpful functions to do this:\n",
    "- `np.polyfit()` ([documentation](https://numpy.org/doc/stable/reference/generated/numpy.polyfit.html)) can be used to find the **coefficients** of the interpolating polynomial passing through a given set of points.\n",
    "- `np.polyint()` ([documentation](https://numpy.org/doc/stable/reference/generated/numpy.polyint.html?highlight=polyint#numpy.polyint)) returns the coefficients of the antiderivative of a polynomial.\n",
    "- `np.polyval()` ([documentation](https://numpy.org/doc/stable/reference/generated/numpy.polyval.html?highlight=polyval#numpy.polyval)) can be used to evaluate a polynomial at one or more points, given a set of coefficients.\n",
    "\n",
    "For instance, let us find the interpolating polynomials for $\\cos(3x)$, using 3 points in the interval $[-1, 1]$:"
   ]
  },
  {
   "cell_type": "code",
   "execution_count": null,
   "metadata": {},
   "outputs": [],
   "source": [
    "# Lines 38-43: Matplotlib examples gallery - Centred spines with arrows\n",
    "# https://matplotlib.org/stable/gallery/recipes/centered_spines_with_arrows.html\n",
    "# Accessed 15/02/2021\n",
    "\n",
    "import matplotlib.pyplot as plt\n",
    "\n",
    "# Evaluate the original function\n",
    "def f(x):\n",
    "    return np.cos(3 * x)\n",
    "\n",
    "x_plot = np.linspace(-1.2, 1.2, 100)    # create a dense enough x-axis to have a smooth plot\n",
    "f_plot = f(x_plot)                      # evaluate the function at all these 100 points\n",
    "\n",
    "# Plot the function\n",
    "fig, ax = plt.subplots(figsize=(12, 8))\n",
    "ax.plot(x_plot, f_plot, 'k-', linewidth=2.5, label=r'$\\cos(3x)$')\n",
    "\n",
    "# Find interpolating polynomial for 3 points\n",
    "N = 3\n",
    "\n",
    "# Create N nodes, equally spaced in [-1, 1]\n",
    "xk = np.linspace(-1, 1, N)\n",
    "\n",
    "# Find the interpolating polynomial coefficients (degree N-1)\n",
    "p_coeffs = np.polyfit(xk, f(xk), N-1)\n",
    "\n",
    "# Evaluate the polynomial using these coefficients, to plot it smoothly\n",
    "p_plot = np.polyval(p_coeffs, x_plot)\n",
    "\n",
    "# Plot the points and the polynomial\n",
    "ax.plot(xk, f(xk), 'rx', markersize=10)\n",
    "ax.plot(x_plot, p_plot, 'r-', linewidth=1.5, label=fr'$p_{{{N-1}}}(x)$')\n",
    "\n",
    "# Label the plot\n",
    "ax.set(title=r'Interpolating $\\cos(3x)$', xlabel=r'$x$')\n",
    "ax.set_ylim([-2, 2])\n",
    "\n",
    "# Move the left and bottom spines to x = 0 and y = 0, respectively.\n",
    "ax.spines[\"left\"].set_position((\"data\", 0))\n",
    "ax.spines[\"bottom\"].set_position((\"data\", 0))\n",
    "# Hide the top and right spines.\n",
    "ax.spines[\"top\"].set_visible(False)\n",
    "ax.spines[\"right\"].set_visible(False)\n",
    "\n",
    "ax.legend()\n",
    "plt.show()"
   ]
  },
  {
   "cell_type": "markdown",
   "metadata": {},
   "source": [
    "Now that we have the coefficients of the interpolating polynomial, we can integrate that polynomial directly to give us an approximation of the integral of $\\cos(3x)$ over $[-1, 1]$:"
   ]
  },
  {
   "cell_type": "code",
   "execution_count": null,
   "metadata": {},
   "outputs": [],
   "source": [
    "# Calculate the indefinite integral of the polynomial\n",
    "# (returns coefficients, like np.polyfit earlier)\n",
    "p_int = np.polyint(p_coeffs)\n",
    "\n",
    "# Evaluate the definite integral over [-1, 1]\n",
    "# We can use np.polyval() to evaluate the polynomial at x=1 and x=-1\n",
    "I_approx = np.polyval(p_int, 1) - np.polyval(p_int, -1)\n",
    "\n",
    "# Compare with the exact integral\n",
    "def F(x):\n",
    "    return np.sin(3*x) / 3\n",
    "\n",
    "I_exact = F(1) - F(-1)\n",
    "\n",
    "print(f'Exact value: I = {I_exact:.6f}\\nApproximation: I_approx = {I_approx:.6f}')"
   ]
  },
  {
   "cell_type": "markdown",
   "metadata": {},
   "source": [
    "As expected when looking at the plot, the approximation is quite far off!\n",
    "\n",
    "---\n",
    "**📚 Learn more:**\n",
    "- [`np.polyfit()`](https://numpy.org/doc/stable/reference/generated/numpy.polyfit.html) - Numpy documentation\n",
    "- **ASC** sections 6.1, 6.2\n",
    "- [Centred spines with arrows](https://matplotlib.org/stable/gallery/recipes/centered_spines_with_arrows.html) - Matplotlib examples\n",
    "\n",
    "---\n",
    "🚩 ***Exercise 2:*** Repeat the calculations above to approximate $I$ by finding and integrating the interpolating polynomial passing through $N$ equally spaced points in $[-1, 1]$, with $N=6$ and $N=12$. Plot all 3 interpolating polynomials on the same graph, as above (include the one we just found for $N=3$ on your plot)."
   ]
  },
  {
   "cell_type": "code",
   "execution_count": null,
   "metadata": {},
   "outputs": [],
   "source": []
  },
  {
   "cell_type": "code",
   "execution_count": null,
   "metadata": {
    "tags": [
     "solution_cell"
    ]
   },
   "outputs": [],
   "source": [
    "%run scripts/show_solutions.py week06_ex2"
   ]
  },
  {
   "cell_type": "markdown",
   "metadata": {},
   "source": [
    "---\n",
    "### 1.3. Deriving quadrature rules\n",
    "\n",
    "Note that if the function $f(x)$ we want to integrate is *itself* a polynomial of degree $N-1$ or below, then the method outlined above in section 1.2 gives the **exact** result:\n",
    "\n",
    "$$\n",
    "    I = \\int_{-1}^1 f(x) \\ dx = \\int_{-1}^1 p_{N-1}(x) \\ dx \\qquad \\text{if } f \\text{ is a polynomial of degree at most } N-1.\n",
    "$$\n",
    "\n",
    "This is because in that case, the interpolating polynomial $p_{N-1}(x)$ passing through any $N$ points $(x_k, f(x_k))$ is exactly equal to $f(x)$. (For instance, if $f(x)$ is a line (a degree 1 polynomial), then the interpolating polynomial passing through 2 or more points $(x_k, f(x_k))$ will also be that same line.)\n",
    "\n",
    "This leads us to an important definition:\n",
    "\n",
    "---\n",
    "#### 🚩 Definition: Degree of precision of a quadrature rule\n",
    "\n",
    "A quadrature rule has **degree of precision** $m$ if it integrates polynomials of degree up to $m$ **exactly**, but not polynomials of degree $m+1$.\n",
    "\n",
    "---\n",
    "\n",
    "Computing and integrating interpolating polynomials every time we want to approximate an integral can become computationally expensive. Recall that we defined a quadrature rule earlier (over $[-1, 1]$) as a set of nodes and weights we can use to approximate an integral as a weighted sum:\n",
    "\n",
    "$$\n",
    "I = \\int_{-1}^1 f(x) \\ dx \\approx \\sum_{k=0}^{N-1} w_k f(x_k).\n",
    "$$\n",
    "\n",
    "The idea here (in the first instance), is to find, given a set of $N$ nodes $x_k$, the corresponding weights $w_k$ such that our quadrature rule has degree of precision at least $N-1$. In other words, for **all** polynomials $p(x)$ of degree up to $N-1$, we want\n",
    "\n",
    "$$\n",
    "\\int_{-1}^1 p(x) \\ dx = \\sum_{k=0}^{N-1} w_k p(x_k).\n",
    "$$\n",
    "\n",
    "Note that if we find weights $w_k$ such that the above is true for all polynomials of the form $p_j(x) = x^j$, with $j = 0, \\dots, N-1$, then it will also be true for all linear combinations of the $p_j(x)$, i.e. for any arbitrary polynomial of degree up to $N-1$.\n",
    "\n",
    "Finally, if we choose $p(x)$ to be $p_{N-1}(x)$, the interpolating polynomial of $f(x)$ passing through the $N$ points $(x_k, f(x_k))$, then by definition we have $p_{N-1}(x_k) = f(x_k)$. We therefore have\n",
    "\n",
    "$$\n",
    "\\int_{-1}^1 p_{N-1}(x) \\ dx = \\sum_{k=0}^{N-1} w_k f(x_k) \\approx  \\int_{-1}^1 f(x) \\ dx.\n",
    "$$\n",
    "\n",
    "This is our interpolatory quadrature rule. Note, in particular, that calculating the weights does not involve $f$ in any way. The nodes and weights characterising a particular quadrature rule (in the reference interval $[-1, 1]$ will always be the same; this allows us to approximate the integral of $f(x)$ by computing the integral of $p_{N-1}(x)$, without actually having to ever compute $p_{N-1}(x)$ itself.\n",
    "\n",
    "---\n",
    "**📚 Learn more:**\n",
    "- **ASC** section 3.3\n",
    "- **PCP** section 6.1\n",
    "---\n",
    "\n",
    "### 1.4. Newton-Cotes quadrature rules\n",
    "\n",
    "When a quadrature rule uses $N$ equally spaced nodes within the interval $[-1, 1]$, it is referred to as a *Newton-Cotes* quadrature rule -- \"closed\" when the nodes include both boundary points, \"open\" when they don't.\n",
    "\n",
    "We will use the process outlined above to derive some of the most commonly used quadrature rules.\n",
    "\n",
    "#### $N = 2$:  the trapezoid rule\n",
    "\n",
    "Consider the \"closed\" Newton-Cotes rule for $N=2$. The two nodes are $x_0 = -1$ and $x_1 = 1$. We are approximating our function $f(x)$ over $[-1, 1]$ with the interpolating polynomial of degree 1 (a straight line), passing through the points $(-1, f(-1))$ and $(1, f(1))$. You might recognise this as the trapezoid rule from Week 5 (but with just one trapezoid).\n",
    "\n",
    "![Trapezoid rule.](graphics/trapz.png)\n",
    "\n",
    "To derive the weights $w_0$ and $w_1$, we use the process described in section 1.3. We want the weights to satisfy\n",
    "\n",
    "$$\n",
    "\\int_{-1}^1 p(x) \\ dx = \\sum_{k=0}^1 w_k p(x_k) = w_0 p(-1) + w_1 p(1),\n",
    "$$\n",
    "\n",
    "for $p(x) = 1$ and $p(x) = x$, so that the quadrature rule integrates all polynomials of degree up to 1 exactly. We have\n",
    "\n",
    "\\begin{align}\n",
    "\\int_{-1}^1 1 \\ dx &= 1 - (-1) = 2 = w_0 + w_1 \\\\\n",
    "\\int_{-1}^1 x \\ dx &= \\frac{1}{2} (1^2 - (-1)^2) = 0 = -w_0 + w_1\n",
    "\\end{align}\n",
    "\n",
    "The second equation gives $w_0 = w_1$. Substituting into the first equation, we get $w_0 = w_1 = 1$. The trapezoid rule over $[-1, 1]$ is therefore defined by the nodes $x_0 = -1, \\ x_1 = 1$ and weights $w_0 = w_1 = 1$.\n",
    "\n",
    "---\n",
    "🚩 ***Exercise 3:*** Use the trapezoid rule to approximate the integral of the function shown in the figure above, $f(x) = e^{x-1} \\sin(2x - 1.2) + 1.5$, over the interval $[-0.7, 0.9]$.\n",
    "\n",
    "*Hint: use your function `quadrature()` from Exercise 1.*"
   ]
  },
  {
   "cell_type": "code",
   "execution_count": null,
   "metadata": {},
   "outputs": [],
   "source": []
  },
  {
   "cell_type": "code",
   "execution_count": null,
   "metadata": {
    "tags": [
     "solution_cell"
    ]
   },
   "outputs": [],
   "source": [
    "%run scripts/show_solutions.py week06_ex3"
   ]
  },
  {
   "cell_type": "markdown",
   "metadata": {},
   "source": [
    "---\n",
    "🚩 ***Exercise 4:*** In section 1.3, we saw that interpolatory quadrature rules with $N$ nodes have degree of precision **at least** $N-1$; sometimes, the degree of precision can be greater than $N-1$. What is the degree of precision of the trapezoid rule?"
   ]
  },
  {
   "cell_type": "code",
   "execution_count": null,
   "metadata": {
    "tags": [
     "solution_cell"
    ]
   },
   "outputs": [],
   "source": [
    "%run scripts/show_solutions.py week06_ex4"
   ]
  },
  {
   "cell_type": "markdown",
   "metadata": {},
   "source": [
    "---\n",
    "#### $N = 1$: the midpoint rule\n",
    "\n",
    "The only Newton-Cotes quadrature rule for $N=1$ is \"open\", since we would have at least 2 nodes for any \"closed\" rule (the 2 boundary points). The only node is therefore taken in the middle of the interval $[-1, 1]$, that is $x_0 = 0$. The interpolation polynomial of degree 0 passing through the point $(0, f(0))$ is a constant, so this approximates the integral as the area of a rectangle. You may also recognise this from Week 5 -- this is the midpoint rule.\n",
    "\n",
    "![Midpoint rule.](graphics/mid.png)\n",
    "\n",
    "---\n",
    "🚩 ***Exercise 5:*** Using the same process as above, derive the weight $w_0$ for the midpoint rule. What is the degree of precision of the midpoint rule?"
   ]
  },
  {
   "cell_type": "code",
   "execution_count": null,
   "metadata": {
    "tags": [
     "solution_cell"
    ]
   },
   "outputs": [],
   "source": [
    "%run scripts/show_solutions.py week06_ex5"
   ]
  },
  {
   "cell_type": "markdown",
   "metadata": {},
   "source": [
    "#### $N = 3$: Simpson's rule\n",
    "\n",
    "The \"closed\" quadrature with $N=3$ nodes is known as Simpson's rule. The three nodes are\n",
    "\n",
    "$$\n",
    "x_0 = -1, \\quad x_1 = 0, \\quad x_2 = 1.\n",
    "$$\n",
    "\n",
    "The interpolating polynomial passing through the points $(-1, f(-1))$, $(0, f(0))$, $(1, f(1))$ is a parabola (degree 2), so Simpson's rule approximates the integral by computing the blue surface below.\n",
    "\n",
    "![Simpson's rule.](graphics/simpson.png)\n",
    "\n",
    "---\n",
    "🚩 ***Exercise 6:*** Show that the weights for Simpson's rule are given by\n",
    "\n",
    "$$\n",
    "w_0 = w_2 = \\frac{1}{3}, \\quad w_1 = \\frac{4}{3}.\n",
    "$$\n",
    "\n",
    "Then, use Simpson's rule to approximate the integral of the function shown in the figure above, $f(x) = e^{x-1} \\sin(2x - 1.2) + 1.5$, over the interval $[-0.7, 0.9]$. How does the result compare to Exercise 3?\n",
    "\n",
    "*The exact integral is approximately 2.15968.*"
   ]
  },
  {
   "cell_type": "code",
   "execution_count": null,
   "metadata": {},
   "outputs": [],
   "source": []
  },
  {
   "cell_type": "code",
   "execution_count": null,
   "metadata": {
    "tags": [
     "solution_cell"
    ]
   },
   "outputs": [],
   "source": [
    "%run scripts/show_solutions.py week06_ex6"
   ]
  },
  {
   "cell_type": "markdown",
   "metadata": {},
   "source": [
    "---\n",
    "🚩 ***Exercise 7:*** Show that the degree of precision of Simpson's rule is 3, and later confirm this with numerical evidence."
   ]
  },
  {
   "cell_type": "code",
   "execution_count": null,
   "metadata": {},
   "outputs": [],
   "source": []
  },
  {
   "cell_type": "code",
   "execution_count": null,
   "metadata": {
    "tags": [
     "solution_cell"
    ]
   },
   "outputs": [],
   "source": [
    "%run scripts/show_solutions.py week06_ex7"
   ]
  },
  {
   "cell_type": "markdown",
   "metadata": {},
   "source": [
    "---\n",
    "### 1.5. Composite quadrature rules\n",
    "\n",
    "Consider splitting the interval $[a, b]$ into $M$ sub-partitions of equal width $h = \\frac{b - a}{M}$. We can compute the integral of $f$ over $[a, b]$ in multiple pieces:\n",
    "\n",
    "$$\n",
    "I = \\int_a^b f(x) \\ dx = \\int_{c_0}^{c_1} f(x) \\ dx\n",
    "+ \\int_{c_1}^{c_2} f(x) \\ dx\n",
    "+ \\dots\n",
    "+ \\int_{c_{M-1}}^{c_M} f(x) \\ dx,\n",
    "\\quad \\text{with } c_0 = a \\text{ and } c_M = b.\n",
    "$$\n",
    "\n",
    "The approximation of $I$ is then obtained using the quadrature rule over each of the $M$ sub-intervals. Choosing smaller intervals means that a low-degree interpolating polynomial is more likely to fit better to the function on these sub-intervals, which improves the accuracy of the estimate. When we introduced the midpoint rule and the trapezoid rule in Week 5, we were in fact talking about the *composite midpoint rule* and the *composite trapezoid rule*.\n",
    "\n",
    "---\n",
    "**📚 Learn more:**\n",
    "- **ASC** section 3.4\n",
    "- **PCP** sections 6.2, 6.3\n",
    "---\n",
    "🚩 ***Exercise 8:*** Write a function `composite_trapz()` which returns the approximate value of the integral of a function $f$ over the interval $[a, b]$, using the **composite** trapezoid rule, where the interval $[a, b]$ is split into $M$ partitions of equal width.\n",
    "\n",
    "You can call your `quadrature()` function inside `composite_trapz()` to compute the approximation over each sub-interval.\n",
    "\n",
    "You can test your function using the same example as in Week 5."
   ]
  },
  {
   "cell_type": "code",
   "execution_count": null,
   "metadata": {},
   "outputs": [],
   "source": []
  },
  {
   "cell_type": "code",
   "execution_count": null,
   "metadata": {
    "tags": [
     "solution_cell"
    ]
   },
   "outputs": [],
   "source": [
    "%run scripts/show_solutions.py week06_ex8"
   ]
  },
  {
   "cell_type": "markdown",
   "metadata": {},
   "source": [
    "---\n",
    "### 1.6. Rate of convergence for composite methods\n",
    "\n",
    "When $M \\to \\infty$, the approximation $I_{\\text{approx}}$ computed with a composite quadrature rule *converges* to $I$ -- the error $E = |I - I_{\\text{approx}}| \\to 0$. In fact, it can be shown that:\n",
    "\n",
    "---\n",
    "#### 🚩 Definition: Rate of convergence of composite rules\n",
    "\n",
    "Using a composite quadrature rule with sub-intervals with sufficiently small width $h$, we have\n",
    "\n",
    "$$\n",
    "E = \\alpha h^r,\n",
    "$$\n",
    "\n",
    "where $\\alpha$ is some constant, and $r$ is the **rate of convergence** of the composite method. We say that the method is of *order* $r$.\n",
    "\n",
    "---\n",
    "\n",
    "(Note that $r$ is not the same as the degree of precision!)\n",
    "\n",
    "---\n",
    "**📚 Learn more:**\n",
    "- **PCP** section 6.5\n",
    "- **ASC** section 3.4\n",
    "---\n",
    "🚩 ***Exercise 9:*** Consider the integral\n",
    "\n",
    "$$\n",
    "I = \\int_{-1}^1 x e^x \\ dx = \\frac{2}{e},\n",
    "$$\n",
    "\n",
    "where $e = e^1$. Use your function `composite_trapz()` to approximate $I$ using $M = 2, 4, 8, 16, 32, 64$ intervals. Compute the absolute error between the exact value of the integral and your approximation for each value of $M$, and plot your results on a log-log scale, with the size $h$ of the intervals on the x-axis and the absolute error on the y-axis.\n",
    "\n",
    "Based on this numerical evidence, what seems to be the convergence rate $r$ of the composite trapezoid rule?"
   ]
  },
  {
   "cell_type": "code",
   "execution_count": null,
   "metadata": {},
   "outputs": [],
   "source": []
  },
  {
   "cell_type": "code",
   "execution_count": null,
   "metadata": {
    "tags": [
     "solution_cell"
    ]
   },
   "outputs": [],
   "source": [
    "%run scripts/show_solutions.py week06_ex9"
   ]
  },
  {
   "cell_type": "markdown",
   "metadata": {},
   "source": [
    "---\n",
    "## 2. Introduction to numerical differentiation\n",
    "\n",
    "We can also use numerical methods to compute approximations to derivatives. Numerical differentiation is typically performed by replacing a **derivative** with a **difference** of finite size.\n",
    "\n",
    "Consider the derivative of a function $F \\left( x \\right)$. One definition for the derivative is\n",
    "\n",
    "$$\n",
    "  F' \\left( x \\right) = \\lim_{\\Delta x \\rightarrow 0} \\frac{F \\left( x + \\Delta x \\right) - F \\left( x \\right)}{\\Delta x}.\n",
    "$$\n",
    "\n",
    "Note that here $\\Delta x$ is notation for a single parameter, and should not be considered to be a product. A numerical approximation for the derivative can be reached by removing the limit, and considering a non-zero step size $\\Delta x > 0$. Here this leads to the **forward difference** approximation\n",
    "\n",
    "$$\n",
    "  F' \\left( x \\right) \\approx D_1 \\left( x \\right) = \\frac{F \\left( x + \\Delta x \\right) - F \\left( x \\right)}{\\Delta x}.\n",
    "$$\n",
    "\n",
    "Alternatively the derivative can be obtained via\n",
    "\n",
    "$$\n",
    "  F' \\left( x \\right) = \\lim_{\\Delta x \\rightarrow 0} \\frac{F \\left( x + \\Delta x \\right) - F \\left( x - \\Delta x \\right)}{2 \\Delta x}.\n",
    "$$\n",
    "\n",
    "Removing the limit now leads to the **centred difference** approximation\n",
    "\n",
    "$$\n",
    "  F' \\left( x \\right) \\approx D_C \\left( x \\right) = \\frac{F \\left( x + \\Delta x \\right) - F \\left( x - \\Delta x \\right)}{2 \\Delta x}.\n",
    "$$\n",
    "\n",
    "There are (many!) different ways to formulate approximations for numerical derivatives, and these will typically have different properties.\n",
    "\n",
    "---\n",
    "**📚 Learn more:**\n",
    "- **ASC** section 3.2\n",
    "\n",
    "---\n",
    "🚩 ***Exercise 10:***\n",
    "Consider the function\n",
    "\n",
    "$$\n",
    "  F \\left( x \\right) = \\left[ 1 + \\cos \\left( \\tan \\left( x \\right) \\right) \\right]^2.\n",
    "$$\n",
    "\n",
    "- Plot this function in the interval $x \\in \\left[ 0, 0.45 \\pi \\right]$.\n",
    "\n",
    "- Use the forward difference approximation to compute a numerical approximation for the derivative at $2,000$ equally spaced points in the interval $x \\in \\left[ 0, 0.45 \\pi \\right]$, with $\\Delta x = 0.01$.  Store the approximation in a vector variable `F_derivative_approx`.\n",
    "\n",
    "- The derivative of the function $F \\left( x \\right)$, at the $2,000$ points specified earlier, is given in the data file `F_derivative.txt`.  The derivative values can be loaded into a Numpy array `F_derivative` using the function `np.loadtxt()`:\n",
    "```python\n",
    "F_derivative = np.loadtxt(\"F_derivative.txt\")\n",
    "```\n",
    "Compute the error `F_derivative_approx - F_derivative` over the interval. Then, create a figure with 2 subplots.\n",
    "    - On the top axes, plot both `F_derivative` and `F_derivative_approx`.\n",
    "    - On the bottom axes, plot the error.\n",
    "    \n",
    "What do you observe? Where does the error seem to be the largest?"
   ]
  },
  {
   "cell_type": "code",
   "execution_count": null,
   "metadata": {},
   "outputs": [],
   "source": []
  },
  {
   "cell_type": "code",
   "execution_count": null,
   "metadata": {
    "tags": [
     "solution_cell"
    ]
   },
   "outputs": [],
   "source": [
    "%run scripts/show_solutions.py week06_ex10"
   ]
  },
  {
   "cell_type": "markdown",
   "metadata": {},
   "source": [
    "---\n",
    "🚩 ***Exercise 11:*** Repeat Exercise 10, this time using the centred difference approximation. How does the error compare to Exercise 10? Is this what you expected?"
   ]
  },
  {
   "cell_type": "code",
   "execution_count": null,
   "metadata": {},
   "outputs": [],
   "source": []
  },
  {
   "cell_type": "code",
   "execution_count": null,
   "metadata": {
    "tags": [
     "solution_cell"
    ]
   },
   "outputs": [],
   "source": [
    "%run scripts/show_solutions.py week06_ex11"
   ]
  }
 ],
 "metadata": {
  "celltoolbar": "Tags",
  "kernelspec": {
   "display_name": "Python 3",
   "language": "python",
   "name": "python3"
  },
  "language_info": {
   "codemirror_mode": {
    "name": "ipython",
    "version": 3
   },
   "file_extension": ".py",
   "mimetype": "text/x-python",
   "name": "python",
   "nbconvert_exporter": "python",
   "pygments_lexer": "ipython3",
   "version": "3.7.6"
  }
 },
 "nbformat": 4,
 "nbformat_minor": 4
}
